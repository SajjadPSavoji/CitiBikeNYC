{
 "cells": [
  {
   "cell_type": "markdown",
   "id": "aac46972",
   "metadata": {},
   "source": [
    "Import The Needed Libraries"
   ]
  },
  {
   "cell_type": "code",
   "execution_count": 42,
   "id": "5b91146c",
   "metadata": {},
   "outputs": [],
   "source": [
    "import numpy as np\n",
    "import pandas as pd\n",
    "import os"
   ]
  },
  {
   "cell_type": "markdown",
   "id": "1967a0c3",
   "metadata": {},
   "source": [
    "Directories Path"
   ]
  },
  {
   "cell_type": "code",
   "execution_count": 43,
   "id": "af584fc5",
   "metadata": {},
   "outputs": [],
   "source": [
    "DIR_PATH = r\"D:\\Amin\\Education\\Course\\Data Analytics and Visualization (Winter 2021-2022)\\Project\\DataSet\";"
   ]
  },
  {
   "cell_type": "markdown",
   "id": "b1c3003e",
   "metadata": {},
   "source": [
    "Need to load the Valid Station Dictionary"
   ]
  },
  {
   "cell_type": "code",
   "execution_count": 44,
   "id": "959aa541",
   "metadata": {},
   "outputs": [],
   "source": [
    "Valid_Stations = np.load('Valid_Stations3.npy',allow_pickle='TRUE').item()"
   ]
  },
  {
   "cell_type": "code",
   "execution_count": 45,
   "id": "1771f69c",
   "metadata": {},
   "outputs": [],
   "source": [
    "Start = dict.fromkeys(Valid_Stations, 0)\n",
    "End = dict.fromkeys(Valid_Stations, 0)"
   ]
  },
  {
   "cell_type": "markdown",
   "id": "96fe93c3",
   "metadata": {},
   "source": [
    "Every time in a trip there are two stations that are involved, one for the start and one for the end."
   ]
  },
  {
   "cell_type": "code",
   "execution_count": 46,
   "id": "d858cc7f",
   "metadata": {},
   "outputs": [],
   "source": [
    "def update(valid, Station, dataset, Feature_Lat, Feature_Long):\n",
    "    for i in range(len(dataset)):\n",
    "        if((dataset[Feature_Lat][i], dataset[Feature_Long][i]) in valid):\n",
    "            Station[(dataset[Feature_Lat][i], dataset[Feature_Long][i])] += 1\n",
    "    return Station"
   ]
  },
  {
   "cell_type": "code",
   "execution_count": 47,
   "id": "c71a36ce",
   "metadata": {},
   "outputs": [
    {
     "name": "stdout",
     "output_type": "stream",
     "text": [
      "2013 201306-citibike-tripdata\n",
      "2013 201307-citibike-tripdata\n",
      "2013 201308-citibike-tripdata\n",
      "2013 201309-citibike-tripdata\n",
      "2013 201310-citibike-tripdata\n",
      "2013 201311-citibike-tripdata\n",
      "2013 201312-citibike-tripdata\n",
      "2014 201401-citibike-tripdata\n",
      "2014 201402-citibike-tripdata\n",
      "2014 201403-citibike-tripdata\n",
      "2014 201404-citibike-tripdata\n",
      "2014 201405-citibike-tripdata\n",
      "2014 201406-citibike-tripdata\n",
      "2014 201407-citibike-tripdata\n",
      "2014 201408-citibike-tripdata\n",
      "2014 201409-citibike-tripdata\n",
      "2014 201410-citibike-tripdata\n",
      "2014 201411-citibike-tripdata\n",
      "2014 201412-citibike-tripdata\n",
      "2015 201501-citibike-tripdata\n",
      "2015 201502-citibike-tripdata\n",
      "2015 201503-citibike-tripdata\n",
      "2015 201504-citibike-tripdata\n",
      "2015 201505-citibike-tripdata\n",
      "2015 201506-citibike-tripdata\n",
      "2015 201507-citibike-tripdata\n",
      "2015 201508-citibike-tripdata\n",
      "2015 201509-citibike-tripdata\n",
      "2015 201510-citibike-tripdata\n",
      "2015 201511-citibike-tripdata\n",
      "2015 201512-citibike-tripdata\n",
      "2016 201601-citibike-tripdata\n",
      "2016 201602-citibike-tripdata\n",
      "2016 201603-citibike-tripdata\n",
      "2016 201604-citibike-tripdata\n",
      "2016 201605-citibike-tripdata\n",
      "2016 201606-citibike-tripdata\n",
      "2016 201607-citibike-tripdata\n",
      "2016 201608-citibike-tripdata\n",
      "2016 201609-citibike-tripdata\n",
      "2016 201610-citibike-tripdata\n",
      "2016 201611-citibike-tripdata\n",
      "2016 201612-citibike-tripdata\n",
      "2017 201701-citibike-tripdata.csv\n",
      "2017 201702-citibike-tripdata.csv\n",
      "2017 201703-citibike-tripdata.csv\n",
      "2017 201704-citibike-tripdata.csv\n",
      "2017 201705-citibike-tripdata.csv\n",
      "2017 201706-citibike-tripdata.csv\n",
      "2017 201707-citibike-tripdata.csv\n",
      "2017 201708-citibike-tripdata.csv\n",
      "2017 201709-citibike-tripdata.csv\n",
      "2017 201710-citibike-tripdata.csv\n",
      "2017 201711-citibike-tripdata.csv\n",
      "2017 201712-citibike-tripdata.csv\n",
      "2018 201801-citibike-tripdata.csv\n",
      "2018 201802-citibike-tripdata.csv\n",
      "2018 201803-citibike-tripdata.csv\n",
      "2018 201804-citibike-tripdata.csv\n",
      "2018 201805-citibike-tripdata.csv\n",
      "2018 201806-citibike-tripdata.csv\n",
      "2018 201807-citibike-tripdata.csv\n",
      "2018 201808-citibike-tripdata.csv\n",
      "2018 201809-citibike-tripdata.csv\n",
      "2018 201810-citibike-tripdata.csv\n",
      "2018 201811-citibike-tripdata.csv\n",
      "2018 201812-citibike-tripdata.csv\n",
      "2019 201901-citibike-tripdata.csv\n",
      "2019 201902-citibike-tripdata.csv\n",
      "2019 201903-citibike-tripdata.csv\n",
      "2019 201904-citibike-tripdata.csv\n",
      "2019 201905-citibike-tripdata.csv\n",
      "2019 201906-citibike-tripdata.csv\n",
      "2019 201907-citibike-tripdata.csv\n",
      "2019 201908-citibike-tripdata.csv\n",
      "2019 201909-citibike-tripdata.csv\n",
      "2019 201910-citibike-tripdata.csv\n",
      "2019 201911-citibike-tripdata.csv\n",
      "2019 201912-citibike-tripdata.csv\n",
      "2020 202001-citibike-tripdata.csv\n",
      "2020 202002-citibike-tripdata.csv\n",
      "2020 202003-citibike-tripdata.csv\n",
      "2020 202004-citibike-tripdata.csv\n",
      "2020 202005-citibike-tripdata.csv\n",
      "2020 202006-citibike-tripdata.csv\n",
      "2020 202007-citibike-tripdata.csv\n",
      "2020 202008-citibike-tripdata.csv\n",
      "2020 202009-citibike-tripdata.csv\n",
      "2020 202010-citibike-tripdata.csv\n",
      "2020 202011-citibike-tripdata.csv\n",
      "2020 202012-citibike-tripdata.csv\n",
      "2021 202101-citibike-tripdata.csv\n"
     ]
    },
    {
     "name": "stderr",
     "output_type": "stream",
     "text": [
      "C:\\Users\\afadaei\\Anaconda3\\lib\\site-packages\\IPython\\core\\interactiveshell.py:3444: DtypeWarning: Columns (5,7) have mixed types.Specify dtype option on import or set low_memory=False.\n",
      "  exec(code_obj, self.user_global_ns, self.user_ns)\n"
     ]
    },
    {
     "name": "stdout",
     "output_type": "stream",
     "text": [
      "2021 202102-citibike-tripdata.csv\n",
      "2021 202103-citibike-tripdata.csv\n",
      "2021 202104-citibike-tripdata.csv\n",
      "2021 202105-citibike-tripdata.csv\n"
     ]
    },
    {
     "name": "stderr",
     "output_type": "stream",
     "text": [
      "C:\\Users\\afadaei\\Anaconda3\\lib\\site-packages\\IPython\\core\\interactiveshell.py:3444: DtypeWarning: Columns (7) have mixed types.Specify dtype option on import or set low_memory=False.\n",
      "  exec(code_obj, self.user_global_ns, self.user_ns)\n"
     ]
    },
    {
     "name": "stdout",
     "output_type": "stream",
     "text": [
      "2021 202106-citibike-tripdata.csv\n",
      "2021 202107-citibike-tripdata.csv\n",
      "2021 202108-citibike-tripdata.csv\n",
      "2021 202109-citibike-tripdata.csv\n",
      "2021 202110-citibike-tripdata.csv\n",
      "2021 202111-citibike-tripdata.csv\n",
      "2021 202112-citibike-tripdata.csv\n",
      "2022 202201-citibike-tripdata.csv\n"
     ]
    }
   ],
   "source": [
    "for year in os.listdir(DIR_PATH):\n",
    "    new_dir = DIR_PATH + \"\\\\\" + year\n",
    "    #if year == \"2020\":\n",
    "     #   break\n",
    "    for month in os.listdir(new_dir):\n",
    "        FolderPath = new_dir + \"\\\\\" + month\n",
    "        if(month == \"ZipFile\"):\n",
    "            continue\n",
    "        for item in os.listdir(FolderPath):\n",
    "            DataSetPath = FolderPath + \"\\\\\" + item\n",
    "            data = pd.read_csv(DataSetPath)\n",
    "            if \"start station latitude\" in data:\n",
    "                Start = update(Valid_Stations, Start, data, \"start station latitude\", \"start station longitude\")\n",
    "                End = update(Valid_Stations, End, data, \"end station latitude\", \"end station longitude\")\n",
    "            elif \"Start Station Latitude\" in data:\n",
    "                Start = update(Valid_Stations, Start, data, \"Start Station Latitude\", \"Start Station Longitude\")\n",
    "                End = update(Valid_Stations, End, data, \"End Station Latitude\", \"End Station Longitude\")\n",
    "            elif \"start_lat\" in data:\n",
    "                Start = update(Valid_Stations, Start, data, \"start_lat\", \"start_lat\")\n",
    "                End = update(Valid_Stations, End, data, \"end_lat\", \"end_lng\")\n",
    "            else:\n",
    "                print(\"No Data this year\")\n",
    "            print(year, month)\n",
    "        \n",
    "    \n",
    "\n",
    "        \n",
    "    "
   ]
  },
  {
   "cell_type": "markdown",
   "id": "c2dd0f66",
   "metadata": {},
   "source": [
    "We will make .csv file for counting the number of times that the stations have been used."
   ]
  },
  {
   "cell_type": "code",
   "execution_count": 51,
   "id": "a07fc456",
   "metadata": {},
   "outputs": [],
   "source": [
    "np.save('Start.npy', Start) \n",
    "np.save('End.npy', End) "
   ]
  },
  {
   "cell_type": "code",
   "execution_count": 3,
   "id": "d5019cfc",
   "metadata": {},
   "outputs": [],
   "source": [
    "Start = np.load('Start.npy',allow_pickle='TRUE').item()\n",
    "End = np.load('End.npy',allow_pickle='TRUE').item()"
   ]
  },
  {
   "cell_type": "code",
   "execution_count": 48,
   "id": "aba3990a",
   "metadata": {},
   "outputs": [],
   "source": [
    "def Make_StartEnd_DataFrame(Starting_Stations, Ending_Stations):\n",
    "    Start_Lat = [i[0] for i in Starting_Stations]\n",
    "    Start_Long = [i[1] for i in Starting_Stations]\n",
    "    #The lines below are not needed since both Starting_Station and Ending_Station are sorted in the same way\n",
    "    #End_Lat = [i[0] for i in Ending_Stations]\n",
    "    #End_Long = [i[1] for i in Ending_Stations]\n",
    "    d = {\"Start Latitude\": Start_Lat, \"Start Longitude\": Start_Long, \"Number Out\": Starting_Stations.values(), \"Number In\": Ending_Stations.values()}\n",
    "    df = pd.DataFrame(data=d)\n",
    "    return df"
   ]
  },
  {
   "cell_type": "code",
   "execution_count": 56,
   "id": "84a2be7b",
   "metadata": {},
   "outputs": [],
   "source": [
    "Start_End_Data = Make_StartEnd_DataFrame(Start, End)"
   ]
  },
  {
   "cell_type": "code",
   "execution_count": 57,
   "id": "419f67d2",
   "metadata": {},
   "outputs": [
    {
     "data": {
      "text/html": [
       "<div>\n",
       "<style scoped>\n",
       "    .dataframe tbody tr th:only-of-type {\n",
       "        vertical-align: middle;\n",
       "    }\n",
       "\n",
       "    .dataframe tbody tr th {\n",
       "        vertical-align: top;\n",
       "    }\n",
       "\n",
       "    .dataframe thead th {\n",
       "        text-align: right;\n",
       "    }\n",
       "</style>\n",
       "<table border=\"1\" class=\"dataframe\">\n",
       "  <thead>\n",
       "    <tr style=\"text-align: right;\">\n",
       "      <th></th>\n",
       "      <th>Start Latitude</th>\n",
       "      <th>Start Longitude</th>\n",
       "      <th>Number Out</th>\n",
       "      <th>Number In</th>\n",
       "    </tr>\n",
       "  </thead>\n",
       "  <tbody>\n",
       "    <tr>\n",
       "      <th>0</th>\n",
       "      <td>40.742354</td>\n",
       "      <td>-73.989151</td>\n",
       "      <td>285239</td>\n",
       "      <td>280352</td>\n",
       "    </tr>\n",
       "    <tr>\n",
       "      <th>1</th>\n",
       "      <td>40.695128</td>\n",
       "      <td>-73.995951</td>\n",
       "      <td>129149</td>\n",
       "      <td>146776</td>\n",
       "    </tr>\n",
       "    <tr>\n",
       "      <th>2</th>\n",
       "      <td>40.735243</td>\n",
       "      <td>-73.987586</td>\n",
       "      <td>127196</td>\n",
       "      <td>126463</td>\n",
       "    </tr>\n",
       "    <tr>\n",
       "      <th>3</th>\n",
       "      <td>40.705693</td>\n",
       "      <td>-74.016777</td>\n",
       "      <td>331255</td>\n",
       "      <td>385951</td>\n",
       "    </tr>\n",
       "    <tr>\n",
       "      <th>4</th>\n",
       "      <td>40.750380</td>\n",
       "      <td>-73.983390</td>\n",
       "      <td>246674</td>\n",
       "      <td>277796</td>\n",
       "    </tr>\n",
       "    <tr>\n",
       "      <th>...</th>\n",
       "      <td>...</td>\n",
       "      <td>...</td>\n",
       "      <td>...</td>\n",
       "      <td>...</td>\n",
       "    </tr>\n",
       "    <tr>\n",
       "      <th>1762</th>\n",
       "      <td>40.771203</td>\n",
       "      <td>-73.903865</td>\n",
       "      <td>30</td>\n",
       "      <td>4753</td>\n",
       "    </tr>\n",
       "    <tr>\n",
       "      <th>1763</th>\n",
       "      <td>40.774798</td>\n",
       "      <td>-73.903787</td>\n",
       "      <td>11</td>\n",
       "      <td>3961</td>\n",
       "    </tr>\n",
       "    <tr>\n",
       "      <th>1764</th>\n",
       "      <td>40.783956</td>\n",
       "      <td>-73.916894</td>\n",
       "      <td>4</td>\n",
       "      <td>2790</td>\n",
       "    </tr>\n",
       "    <tr>\n",
       "      <th>1765</th>\n",
       "      <td>40.782465</td>\n",
       "      <td>-73.914527</td>\n",
       "      <td>3</td>\n",
       "      <td>4307</td>\n",
       "    </tr>\n",
       "    <tr>\n",
       "      <th>1766</th>\n",
       "      <td>40.780478</td>\n",
       "      <td>-73.912212</td>\n",
       "      <td>6</td>\n",
       "      <td>5899</td>\n",
       "    </tr>\n",
       "  </tbody>\n",
       "</table>\n",
       "<p>1767 rows × 4 columns</p>\n",
       "</div>"
      ],
      "text/plain": [
       "      Start Latitude  Start Longitude  Number Out  Number In\n",
       "0          40.742354       -73.989151      285239     280352\n",
       "1          40.695128       -73.995951      129149     146776\n",
       "2          40.735243       -73.987586      127196     126463\n",
       "3          40.705693       -74.016777      331255     385951\n",
       "4          40.750380       -73.983390      246674     277796\n",
       "...              ...              ...         ...        ...\n",
       "1762       40.771203       -73.903865          30       4753\n",
       "1763       40.774798       -73.903787          11       3961\n",
       "1764       40.783956       -73.916894           4       2790\n",
       "1765       40.782465       -73.914527           3       4307\n",
       "1766       40.780478       -73.912212           6       5899\n",
       "\n",
       "[1767 rows x 4 columns]"
      ]
     },
     "execution_count": 57,
     "metadata": {},
     "output_type": "execute_result"
    }
   ],
   "source": [
    "Start_End_Data"
   ]
  },
  {
   "cell_type": "code",
   "execution_count": 58,
   "id": "7d83affc",
   "metadata": {},
   "outputs": [],
   "source": [
    "Start_End_Data.to_csv(\"Start_End.csv\")  "
   ]
  }
 ],
 "metadata": {
  "kernelspec": {
   "display_name": "Python 3 (ipykernel)",
   "language": "python",
   "name": "python3"
  },
  "language_info": {
   "codemirror_mode": {
    "name": "ipython",
    "version": 3
   },
   "file_extension": ".py",
   "mimetype": "text/x-python",
   "name": "python",
   "nbconvert_exporter": "python",
   "pygments_lexer": "ipython3",
   "version": "3.9.7"
  }
 },
 "nbformat": 4,
 "nbformat_minor": 5
}

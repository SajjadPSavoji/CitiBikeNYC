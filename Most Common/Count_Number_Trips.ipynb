{
 "cells": [
  {
   "cell_type": "markdown",
   "id": "72f4a66e",
   "metadata": {},
   "source": [
    "Import The Needed Libraries"
   ]
  },
  {
   "cell_type": "code",
   "execution_count": 34,
   "id": "31d4f516",
   "metadata": {},
   "outputs": [],
   "source": [
    "import numpy as np\n",
    "import pandas as pd\n",
    "import os"
   ]
  },
  {
   "cell_type": "markdown",
   "id": "38b09b7f",
   "metadata": {},
   "source": [
    "Directories Path"
   ]
  },
  {
   "cell_type": "code",
   "execution_count": 35,
   "id": "511c0f11",
   "metadata": {},
   "outputs": [],
   "source": [
    "DIR_PATH = r\"D:\\Amin\\Education\\Course\\Data Analytics and Visualization (Winter 2021-2022)\\Project\\DataSet\";"
   ]
  },
  {
   "cell_type": "markdown",
   "id": "6e8690f8",
   "metadata": {},
   "source": [
    "Need to load the Valid Station Dictionary"
   ]
  },
  {
   "cell_type": "code",
   "execution_count": 36,
   "id": "e173d233",
   "metadata": {},
   "outputs": [],
   "source": [
    "Valid_Stations = np.load('Valid_Stations3.npy',allow_pickle='TRUE').item()"
   ]
  },
  {
   "cell_type": "code",
   "execution_count": 37,
   "id": "7570f42a",
   "metadata": {},
   "outputs": [],
   "source": [
    "Trip = {}"
   ]
  },
  {
   "cell_type": "markdown",
   "id": "8e4480a1",
   "metadata": {},
   "source": [
    "Every trip has a starting and ending point, we will record both of them as a 4D tuple in the dictionary"
   ]
  },
  {
   "cell_type": "code",
   "execution_count": 38,
   "id": "23deacfb",
   "metadata": {},
   "outputs": [],
   "source": [
    "def Measure_Trip(dataset, valid, Feature_Lat_S, Feature_Long_S, Feature_Lat_E, Feature_Long_E):\n",
    "    for i in range(len(dataset)):\n",
    "        if(((dataset[Feature_Lat_S][i], dataset[Feature_Long_S][i]) in valid) and ((dataset[Feature_Lat_E][i], dataset[Feature_Long_E][i]) in valid)):\n",
    "            if((dataset[Feature_Lat_S][i], dataset[Feature_Long_S][i], dataset[Feature_Lat_E][i], dataset[Feature_Long_E][i]) in Trip):\n",
    "                Trip[(dataset[Feature_Lat_S][i], dataset[Feature_Long_S][i], dataset[Feature_Lat_E][i], dataset[Feature_Long_E][i])] += 1\n",
    "            else:\n",
    "                Trip[(dataset[Feature_Lat_S][i], dataset[Feature_Long_S][i], dataset[Feature_Lat_E][i], dataset[Feature_Long_E][i])] = 1\n",
    "    return Trip"
   ]
  },
  {
   "cell_type": "code",
   "execution_count": 39,
   "id": "0ef1aa27",
   "metadata": {},
   "outputs": [
    {
     "name": "stdout",
     "output_type": "stream",
     "text": [
      "2013 201306-citibike-tripdata\n",
      "2013 201307-citibike-tripdata\n",
      "2013 201308-citibike-tripdata\n",
      "2013 201309-citibike-tripdata\n",
      "2013 201310-citibike-tripdata\n",
      "2013 201311-citibike-tripdata\n",
      "2013 201312-citibike-tripdata\n",
      "2014 201401-citibike-tripdata\n",
      "2014 201402-citibike-tripdata\n",
      "2014 201403-citibike-tripdata\n",
      "2014 201404-citibike-tripdata\n",
      "2014 201405-citibike-tripdata\n",
      "2014 201406-citibike-tripdata\n",
      "2014 201407-citibike-tripdata\n",
      "2014 201408-citibike-tripdata\n",
      "2014 201409-citibike-tripdata\n",
      "2014 201410-citibike-tripdata\n",
      "2014 201411-citibike-tripdata\n",
      "2014 201412-citibike-tripdata\n",
      "2015 201501-citibike-tripdata\n",
      "2015 201502-citibike-tripdata\n",
      "2015 201503-citibike-tripdata\n",
      "2015 201504-citibike-tripdata\n",
      "2015 201505-citibike-tripdata\n",
      "2015 201506-citibike-tripdata\n",
      "2015 201507-citibike-tripdata\n",
      "2015 201508-citibike-tripdata\n",
      "2015 201509-citibike-tripdata\n",
      "2015 201510-citibike-tripdata\n",
      "2015 201511-citibike-tripdata\n",
      "2015 201512-citibike-tripdata\n",
      "2016 201601-citibike-tripdata\n",
      "2016 201602-citibike-tripdata\n",
      "2016 201603-citibike-tripdata\n",
      "2016 201604-citibike-tripdata\n",
      "2016 201605-citibike-tripdata\n",
      "2016 201606-citibike-tripdata\n",
      "2016 201607-citibike-tripdata\n",
      "2016 201608-citibike-tripdata\n",
      "2016 201609-citibike-tripdata\n",
      "2016 201610-citibike-tripdata\n",
      "2016 201611-citibike-tripdata\n",
      "2016 201612-citibike-tripdata\n",
      "2017 201701-citibike-tripdata.csv\n",
      "2017 201702-citibike-tripdata.csv\n",
      "2017 201703-citibike-tripdata.csv\n",
      "2017 201704-citibike-tripdata.csv\n",
      "2017 201705-citibike-tripdata.csv\n",
      "2017 201706-citibike-tripdata.csv\n",
      "2017 201707-citibike-tripdata.csv\n",
      "2017 201708-citibike-tripdata.csv\n",
      "2017 201709-citibike-tripdata.csv\n",
      "2017 201710-citibike-tripdata.csv\n",
      "2017 201711-citibike-tripdata.csv\n",
      "2017 201712-citibike-tripdata.csv\n",
      "2018 201801-citibike-tripdata.csv\n",
      "2018 201802-citibike-tripdata.csv\n",
      "2018 201803-citibike-tripdata.csv\n",
      "2018 201804-citibike-tripdata.csv\n",
      "2018 201805-citibike-tripdata.csv\n",
      "2018 201806-citibike-tripdata.csv\n",
      "2018 201807-citibike-tripdata.csv\n",
      "2018 201808-citibike-tripdata.csv\n",
      "2018 201809-citibike-tripdata.csv\n",
      "2018 201810-citibike-tripdata.csv\n",
      "2018 201811-citibike-tripdata.csv\n",
      "2018 201812-citibike-tripdata.csv\n",
      "2019 201901-citibike-tripdata.csv\n",
      "2019 201902-citibike-tripdata.csv\n",
      "2019 201903-citibike-tripdata.csv\n",
      "2019 201904-citibike-tripdata.csv\n",
      "2019 201905-citibike-tripdata.csv\n",
      "2019 201906-citibike-tripdata.csv\n",
      "2019 201907-citibike-tripdata.csv\n",
      "2019 201908-citibike-tripdata.csv\n",
      "2019 201909-citibike-tripdata.csv\n",
      "2019 201910-citibike-tripdata.csv\n",
      "2019 201911-citibike-tripdata.csv\n",
      "2019 201912-citibike-tripdata.csv\n",
      "2020 202001-citibike-tripdata.csv\n",
      "2020 202002-citibike-tripdata.csv\n",
      "2020 202003-citibike-tripdata.csv\n",
      "2020 202004-citibike-tripdata.csv\n",
      "2020 202005-citibike-tripdata.csv\n",
      "2020 202006-citibike-tripdata.csv\n",
      "2020 202007-citibike-tripdata.csv\n",
      "2020 202008-citibike-tripdata.csv\n",
      "2020 202009-citibike-tripdata.csv\n",
      "2020 202010-citibike-tripdata.csv\n",
      "2020 202011-citibike-tripdata.csv\n",
      "2020 202012-citibike-tripdata.csv\n",
      "2021 202101-citibike-tripdata.csv\n"
     ]
    },
    {
     "name": "stderr",
     "output_type": "stream",
     "text": [
      "C:\\Users\\afadaei\\Anaconda3\\lib\\site-packages\\IPython\\core\\interactiveshell.py:3444: DtypeWarning: Columns (5,7) have mixed types.Specify dtype option on import or set low_memory=False.\n",
      "  exec(code_obj, self.user_global_ns, self.user_ns)\n"
     ]
    },
    {
     "name": "stdout",
     "output_type": "stream",
     "text": [
      "2021 202102-citibike-tripdata.csv\n",
      "2021 202103-citibike-tripdata.csv\n",
      "2021 202104-citibike-tripdata.csv\n",
      "2021 202105-citibike-tripdata.csv\n"
     ]
    },
    {
     "name": "stderr",
     "output_type": "stream",
     "text": [
      "C:\\Users\\afadaei\\Anaconda3\\lib\\site-packages\\IPython\\core\\interactiveshell.py:3444: DtypeWarning: Columns (7) have mixed types.Specify dtype option on import or set low_memory=False.\n",
      "  exec(code_obj, self.user_global_ns, self.user_ns)\n"
     ]
    },
    {
     "name": "stdout",
     "output_type": "stream",
     "text": [
      "2021 202106-citibike-tripdata.csv\n",
      "2021 202107-citibike-tripdata.csv\n",
      "2021 202108-citibike-tripdata.csv\n",
      "2021 202109-citibike-tripdata.csv\n",
      "2021 202110-citibike-tripdata.csv\n",
      "2021 202111-citibike-tripdata.csv\n",
      "2021 202112-citibike-tripdata.csv\n",
      "2022 202201-citibike-tripdata.csv\n"
     ]
    }
   ],
   "source": [
    "for year in os.listdir(DIR_PATH):\n",
    "    new_dir = DIR_PATH + \"\\\\\" + year\n",
    "    #if year == \"2020\":\n",
    "     #   break\n",
    "    for month in os.listdir(new_dir):\n",
    "        FolderPath = new_dir + \"\\\\\" + month\n",
    "        if(month == \"ZipFile\"):\n",
    "            continue\n",
    "        for item in os.listdir(FolderPath):\n",
    "            DataSetPath = FolderPath + \"\\\\\" + item\n",
    "            data = pd.read_csv(DataSetPath)\n",
    "            if \"start station latitude\" in data:\n",
    "                Measure_Trip(data, Valid_Stations, \"start station latitude\", \"start station longitude\", \"end station latitude\", \"end station longitude\")            \n",
    "            elif \"Start Station Latitude\" in data:\n",
    "                Measure_Trip(data, Valid_Stations, \"Start Station Latitude\", \"Start Station Longitude\", \"End Station Latitude\", \"End Station Longitude\")\n",
    "            elif \"start_lat\" in data:\n",
    "                Measure_Trip(data, Valid_Stations, \"start_lat\", \"start_lat\", \"end_lat\", \"end_lng\")\n",
    "            else:\n",
    "                print(\"No Data this year\")\n",
    "            print(year, month)\n",
    "        \n",
    "    \n",
    "\n",
    "        \n",
    "    "
   ]
  },
  {
   "cell_type": "markdown",
   "id": "bda509b4",
   "metadata": {},
   "source": [
    "We will make .csv file for counting the number of times that the stations have been used."
   ]
  },
  {
   "cell_type": "code",
   "execution_count": 40,
   "id": "b9a69e70",
   "metadata": {},
   "outputs": [],
   "source": [
    "np.save('Trip.npy', Trip) "
   ]
  },
  {
   "cell_type": "code",
   "execution_count": 7,
   "id": "16f1bbc3",
   "metadata": {},
   "outputs": [],
   "source": [
    "Trip = np.load('Trip.npy',allow_pickle='TRUE').item()"
   ]
  },
  {
   "cell_type": "code",
   "execution_count": 41,
   "id": "92d3fdea",
   "metadata": {},
   "outputs": [],
   "source": [
    "def Make_Trip_DataFrame(Trip_List):\n",
    "    Start_Lat = [i[0] for i in Trip_List]\n",
    "    Start_Long = [i[1] for i in Trip_List]\n",
    "    End_Lat = [i[2] for i in Trip_List]\n",
    "    End_Long = [i[3] for i in Trip_List]\n",
    "    d = {\"Start Latitude\": Start_Lat, \"Start Longitude\": Start_Long, \"End Latitude\": End_Lat, \"End Longitude\": End_Long, \"Number Trips\": Trip_List.values()}\n",
    "    df = pd.DataFrame(data=d)\n",
    "    return df"
   ]
  },
  {
   "cell_type": "code",
   "execution_count": 42,
   "id": "77a342c4",
   "metadata": {},
   "outputs": [],
   "source": [
    "Trip_Data = Make_Trip_DataFrame(Trip)"
   ]
  },
  {
   "cell_type": "code",
   "execution_count": 43,
   "id": "227c7f07",
   "metadata": {},
   "outputs": [
    {
     "data": {
      "text/html": [
       "<div>\n",
       "<style scoped>\n",
       "    .dataframe tbody tr th:only-of-type {\n",
       "        vertical-align: middle;\n",
       "    }\n",
       "\n",
       "    .dataframe tbody tr th {\n",
       "        vertical-align: top;\n",
       "    }\n",
       "\n",
       "    .dataframe thead th {\n",
       "        text-align: right;\n",
       "    }\n",
       "</style>\n",
       "<table border=\"1\" class=\"dataframe\">\n",
       "  <thead>\n",
       "    <tr style=\"text-align: right;\">\n",
       "      <th></th>\n",
       "      <th>Start Latitude</th>\n",
       "      <th>Start Longitude</th>\n",
       "      <th>End Latitude</th>\n",
       "      <th>End Longitude</th>\n",
       "      <th>Number Trips</th>\n",
       "    </tr>\n",
       "  </thead>\n",
       "  <tbody>\n",
       "    <tr>\n",
       "      <th>0</th>\n",
       "      <td>40.742354</td>\n",
       "      <td>-73.989151</td>\n",
       "      <td>40.743174</td>\n",
       "      <td>-74.003664</td>\n",
       "      <td>1396</td>\n",
       "    </tr>\n",
       "    <tr>\n",
       "      <th>1</th>\n",
       "      <td>40.695128</td>\n",
       "      <td>-73.995951</td>\n",
       "      <td>40.695128</td>\n",
       "      <td>-73.995951</td>\n",
       "      <td>4944</td>\n",
       "    </tr>\n",
       "    <tr>\n",
       "      <th>2</th>\n",
       "      <td>40.735243</td>\n",
       "      <td>-73.987586</td>\n",
       "      <td>40.691782</td>\n",
       "      <td>-73.973730</td>\n",
       "      <td>13</td>\n",
       "    </tr>\n",
       "    <tr>\n",
       "      <th>3</th>\n",
       "      <td>40.705693</td>\n",
       "      <td>-74.016777</td>\n",
       "      <td>40.689269</td>\n",
       "      <td>-73.989129</td>\n",
       "      <td>78</td>\n",
       "    </tr>\n",
       "    <tr>\n",
       "      <th>4</th>\n",
       "      <td>40.750380</td>\n",
       "      <td>-73.983390</td>\n",
       "      <td>40.695128</td>\n",
       "      <td>-73.995951</td>\n",
       "      <td>52</td>\n",
       "    </tr>\n",
       "    <tr>\n",
       "      <th>...</th>\n",
       "      <td>...</td>\n",
       "      <td>...</td>\n",
       "      <td>...</td>\n",
       "      <td>...</td>\n",
       "      <td>...</td>\n",
       "    </tr>\n",
       "    <tr>\n",
       "      <th>839253</th>\n",
       "      <td>40.830051</td>\n",
       "      <td>-73.892103</td>\n",
       "      <td>40.836733</td>\n",
       "      <td>-73.887931</td>\n",
       "      <td>1</td>\n",
       "    </tr>\n",
       "    <tr>\n",
       "      <th>839254</th>\n",
       "      <td>40.771203</td>\n",
       "      <td>-73.903865</td>\n",
       "      <td>40.747182</td>\n",
       "      <td>-73.943264</td>\n",
       "      <td>1</td>\n",
       "    </tr>\n",
       "    <tr>\n",
       "      <th>839255</th>\n",
       "      <td>40.753441</td>\n",
       "      <td>-73.912402</td>\n",
       "      <td>40.757420</td>\n",
       "      <td>-73.945133</td>\n",
       "      <td>1</td>\n",
       "    </tr>\n",
       "    <tr>\n",
       "      <th>839256</th>\n",
       "      <td>40.831998</td>\n",
       "      <td>-73.892686</td>\n",
       "      <td>40.839335</td>\n",
       "      <td>-73.886445</td>\n",
       "      <td>1</td>\n",
       "    </tr>\n",
       "    <tr>\n",
       "      <th>839257</th>\n",
       "      <td>40.691283</td>\n",
       "      <td>-73.945242</td>\n",
       "      <td>40.782750</td>\n",
       "      <td>-73.971370</td>\n",
       "      <td>1</td>\n",
       "    </tr>\n",
       "  </tbody>\n",
       "</table>\n",
       "<p>839258 rows × 5 columns</p>\n",
       "</div>"
      ],
      "text/plain": [
       "        Start Latitude  Start Longitude  End Latitude  End Longitude  \\\n",
       "0            40.742354       -73.989151     40.743174     -74.003664   \n",
       "1            40.695128       -73.995951     40.695128     -73.995951   \n",
       "2            40.735243       -73.987586     40.691782     -73.973730   \n",
       "3            40.705693       -74.016777     40.689269     -73.989129   \n",
       "4            40.750380       -73.983390     40.695128     -73.995951   \n",
       "...                ...              ...           ...            ...   \n",
       "839253       40.830051       -73.892103     40.836733     -73.887931   \n",
       "839254       40.771203       -73.903865     40.747182     -73.943264   \n",
       "839255       40.753441       -73.912402     40.757420     -73.945133   \n",
       "839256       40.831998       -73.892686     40.839335     -73.886445   \n",
       "839257       40.691283       -73.945242     40.782750     -73.971370   \n",
       "\n",
       "        Number Trips  \n",
       "0               1396  \n",
       "1               4944  \n",
       "2                 13  \n",
       "3                 78  \n",
       "4                 52  \n",
       "...              ...  \n",
       "839253             1  \n",
       "839254             1  \n",
       "839255             1  \n",
       "839256             1  \n",
       "839257             1  \n",
       "\n",
       "[839258 rows x 5 columns]"
      ]
     },
     "execution_count": 43,
     "metadata": {},
     "output_type": "execute_result"
    }
   ],
   "source": [
    "Trip_Data"
   ]
  },
  {
   "cell_type": "code",
   "execution_count": 44,
   "id": "830e7350",
   "metadata": {},
   "outputs": [],
   "source": [
    "Trip_Data.to_csv(\"Trip.csv\")  "
   ]
  }
 ],
 "metadata": {
  "kernelspec": {
   "display_name": "Python 3 (ipykernel)",
   "language": "python",
   "name": "python3"
  },
  "language_info": {
   "codemirror_mode": {
    "name": "ipython",
    "version": 3
   },
   "file_extension": ".py",
   "mimetype": "text/x-python",
   "name": "python",
   "nbconvert_exporter": "python",
   "pygments_lexer": "ipython3",
   "version": "3.9.7"
  }
 },
 "nbformat": 4,
 "nbformat_minor": 5
}

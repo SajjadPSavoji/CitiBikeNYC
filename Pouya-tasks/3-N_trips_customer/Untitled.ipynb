{
 "cells": [
  {
   "cell_type": "code",
   "execution_count": 1,
   "id": "9534121f",
   "metadata": {},
   "outputs": [],
   "source": [
    "import numpy as np\n",
    "import pandas as pd\n",
    "import os\n",
    "import glob"
   ]
  },
  {
   "cell_type": "code",
   "execution_count": 6,
   "id": "d9902d91",
   "metadata": {},
   "outputs": [],
   "source": [
    "def features_unification(datasets_address):\n",
    "    \n",
    "    col = ['tripduration', 'starttime', 'stoptime', 'start station id',\n",
    "           'start station name', 'start station latitude',\n",
    "           'start station longitude', 'end station id', 'end station name',\n",
    "           'end station latitude', 'end station longitude', 'bikeid', 'usertype',\n",
    "           'birth year', 'gender']\n",
    "    \n",
    "    path = os.getcwd()\n",
    "    csv_files = glob.glob(os.path.join(datasets_address, \"*.csv\"))\n",
    "\n",
    "    for i in csv_files:\n",
    "        \n",
    "        data = pd.read_csv(i)\n",
    "        data.columns = col\n",
    "        data.to_csv(i, index = False)\n",
    "    \n",
    "    "
   ]
  }
 ],
 "metadata": {
  "kernelspec": {
   "display_name": "Python 3 (ipykernel)",
   "language": "python",
   "name": "python3"
  },
  "language_info": {
   "codemirror_mode": {
    "name": "ipython",
    "version": 3
   },
   "file_extension": ".py",
   "mimetype": "text/x-python",
   "name": "python",
   "nbconvert_exporter": "python",
   "pygments_lexer": "ipython3",
   "version": "3.7.11"
  }
 },
 "nbformat": 4,
 "nbformat_minor": 5
}

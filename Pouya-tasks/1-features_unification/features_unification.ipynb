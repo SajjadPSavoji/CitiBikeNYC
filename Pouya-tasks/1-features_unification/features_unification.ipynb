{
 "cells": [
  {
   "cell_type": "code",
   "execution_count": 12,
   "id": "9534121f",
   "metadata": {},
   "outputs": [],
   "source": [
    "import numpy as np\n",
    "import pandas as pd\n",
    "import os\n",
    "import glob\n",
    "import ntpath"
   ]
  },
  {
   "cell_type": "code",
   "execution_count": 13,
   "id": "d9902d91",
   "metadata": {},
   "outputs": [],
   "source": [
    "def features_unification(datasets_address):\n",
    "    \n",
    "    col = ['tripduration', 'starttime', 'stoptime', 'start station id',\n",
    "           'start station name', 'start station latitude',\n",
    "           'start station longitude', 'end station id', 'end station name',\n",
    "           'end station latitude', 'end station longitude', 'bikeid', 'usertype',\n",
    "           'birth year', 'gender']\n",
    "    \n",
    "    path = os.getcwd()\n",
    "    csv_files = glob.glob(os.path.join(datasets_address, \"*.csv\"))\n",
    "\n",
    "    for i in csv_files:\n",
    "        \n",
    "        ## Features Unification\n",
    "        \n",
    "        data = pd.read_csv(i)\n",
    "        data.columns = col\n",
    "        \n",
    "#         ## Adding Age Column\n",
    "#         if ntpath.basename(i)[0:2] == 'JC':\n",
    "#             year = np.int(ntpath.basename(i)[3:7])\n",
    "#         else:\n",
    "#             year = np.int(ntpath.basename(i)[0:4])    \n",
    "        \n",
    "        \n",
    "#         data.loc[data.loc[:,'usertype']=='Subscriber','age'] = year - data[data.loc[:,'usertype']=='Subscriber'].loc[:,'birth year'].astype('int')\n",
    "        \n",
    "        ## Export\n",
    "        data.to_csv(i, index = False)"
   ]
  },
  {
   "cell_type": "code",
   "execution_count": 14,
   "id": "98cd6f7d",
   "metadata": {},
   "outputs": [],
   "source": [
    "features_unification(\"C:/Users/adria/OneDrive/Desktop/CSV_files\")\n"
   ]
  },
  {
   "cell_type": "code",
   "execution_count": null,
   "id": "2d245602",
   "metadata": {},
   "outputs": [],
   "source": []
  }
 ],
 "metadata": {
  "kernelspec": {
   "display_name": "Python 3 (ipykernel)",
   "language": "python",
   "name": "python3"
  },
  "language_info": {
   "codemirror_mode": {
    "name": "ipython",
    "version": 3
   },
   "file_extension": ".py",
   "mimetype": "text/x-python",
   "name": "python",
   "nbconvert_exporter": "python",
   "pygments_lexer": "ipython3",
   "version": "3.7.11"
  }
 },
 "nbformat": 4,
 "nbformat_minor": 5
}

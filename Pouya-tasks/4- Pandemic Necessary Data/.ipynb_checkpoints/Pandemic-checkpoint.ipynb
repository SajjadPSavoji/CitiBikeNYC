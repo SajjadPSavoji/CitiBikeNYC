{
 "cells": [
  {
   "cell_type": "markdown",
   "id": "38afeb22",
   "metadata": {},
   "source": [
    "# Pandemic Basic Data (2018-2020)"
   ]
  },
  {
   "cell_type": "code",
   "execution_count": 74,
   "id": "d7611d62",
   "metadata": {},
   "outputs": [],
   "source": [
    "import numpy as np\n",
    "import pandas as pd\n",
    "import os\n",
    "import glob\n",
    "import ntpath"
   ]
  },
  {
   "cell_type": "code",
   "execution_count": 75,
   "id": "94019238",
   "metadata": {},
   "outputs": [],
   "source": [
    "def Pandemic_20182020(datasets_address,export_address):\n",
    "    \n",
    "    path = os.getcwd()\n",
    "    csv_files = glob.glob(os.path.join(datasets_address, \"*.csv\"))\n",
    "    \n",
    "    j=0\n",
    "    col = columns=['Date','Year','Month','Number_of_Trips','Number_of_Trips_by_Subscribers','Number_of_Trips_by_Customers','Number_of_Bikes','Number_of_Used_Stations','MAN','WOMAN','Unknown_Gender']\n",
    "    final_data = pd.DataFrame(columns = col)\n",
    "\n",
    "    for i in csv_files:\n",
    "        \n",
    "        year = ntpath.basename(i)[0:4]\n",
    "        month = ntpath.basename(i)[4:6]\n",
    "        \n",
    "        data = pd.read_csv(i)\n",
    "        \n",
    "        final_data.loc[j,'Date'] = year +'-' + month\n",
    "        final_data.loc[j,'Year'] = year\n",
    "        final_data.loc[j,'Month'] = month\n",
    "        final_data.loc[j,'Number_of_Trips'] = len(data)\n",
    "        final_data.loc[j,'Number_of_Trips_by_Subscribers'] = len(data[data.loc[:,'usertype']=='Subscriber'])\n",
    "        final_data.loc[j,'Number_of_Trips_by_Customers'] = len(data) - len(data[data.loc[:,'usertype']=='Subscriber'])\n",
    "        final_data.loc[j,'Number_of_Bikes'] = len(data.loc[:,'bikeid'].unique())\n",
    "        final_data.loc[j,'Number_of_Used_Stations'] = len(np.unique(np.vstack((data.loc[:,'start station id'],data.loc[:,'end station id']))))\n",
    "        final_data.loc[j,'MAN'] = len(data[data.loc[:,'gender']==1])\n",
    "        final_data.loc[j,'WOMAN'] = len(data[data.loc[:,'gender']==2])\n",
    "        final_data.loc[j,'Unknown_Gender'] = len(data) - len(data[data.loc[:,'gender']==1]) - len(data[data.loc[:,'gender']==2]) \n",
    "        j+=1\n",
    "        \n",
    "\n",
    "        \n",
    "        \n",
    "    final_data.to_csv(export_address,index=False)"
   ]
  },
  {
   "cell_type": "code",
   "execution_count": 76,
   "id": "a9f464ee",
   "metadata": {},
   "outputs": [],
   "source": [
    "Pandemic_20182020('C:/Users/adria/OneDrive/Desktop/CSV_files','C:/Users/adria/OneDrive/Desktop/Pandemic_20182020.csv')"
   ]
  },
  {
   "cell_type": "code",
   "execution_count": null,
   "id": "fe9a3901",
   "metadata": {},
   "outputs": [],
   "source": []
  }
 ],
 "metadata": {
  "kernelspec": {
   "display_name": "Python 3 (ipykernel)",
   "language": "python",
   "name": "python3"
  },
  "language_info": {
   "codemirror_mode": {
    "name": "ipython",
    "version": 3
   },
   "file_extension": ".py",
   "mimetype": "text/x-python",
   "name": "python",
   "nbconvert_exporter": "python",
   "pygments_lexer": "ipython3",
   "version": "3.8.12"
  }
 },
 "nbformat": 4,
 "nbformat_minor": 5
}

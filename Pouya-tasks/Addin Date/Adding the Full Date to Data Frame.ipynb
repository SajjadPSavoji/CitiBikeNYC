{
 "cells": [
  {
   "cell_type": "markdown",
   "id": "b7d4f198",
   "metadata": {},
   "source": [
    "# Adding Full Date to Data Frame"
   ]
  },
  {
   "cell_type": "markdown",
   "id": "faee6793",
   "metadata": {},
   "source": [
    "## Import Packages"
   ]
  },
  {
   "cell_type": "code",
   "execution_count": 1,
   "id": "c5266cb7",
   "metadata": {},
   "outputs": [],
   "source": [
    "import numpy as np\n",
    "import pandas as pd"
   ]
  },
  {
   "cell_type": "code",
   "execution_count": 2,
   "id": "ff3e26f5",
   "metadata": {},
   "outputs": [],
   "source": [
    "df = pd.read_csv(\"C:/Users/adria/OneDrive/Desktop/CitiBikeNYC/Basic Stats/BasicStats.csv\")\n",
    "df['date'] = df['Year'].astype('str')+'-'+df['Month'].astype('str')\n",
    "first_column = df.pop('date')\n",
    "df.insert(0, 'Date', first_column)"
   ]
  },
  {
   "cell_type": "markdown",
   "id": "b2aef5bc",
   "metadata": {},
   "source": [
    "## Export the New Data Frame "
   ]
  },
  {
   "cell_type": "code",
   "execution_count": 4,
   "id": "0ddf834c",
   "metadata": {},
   "outputs": [],
   "source": [
    "df.to_csv('C:/Users/adria/OneDrive/Desktop/Date_Added_BasicStats.csv')"
   ]
  },
  {
   "cell_type": "code",
   "execution_count": null,
   "id": "85a17776",
   "metadata": {},
   "outputs": [],
   "source": []
  }
 ],
 "metadata": {
  "kernelspec": {
   "display_name": "Python 3 (ipykernel)",
   "language": "python",
   "name": "python3"
  },
  "language_info": {
   "codemirror_mode": {
    "name": "ipython",
    "version": 3
   },
   "file_extension": ".py",
   "mimetype": "text/x-python",
   "name": "python",
   "nbconvert_exporter": "python",
   "pygments_lexer": "ipython3",
   "version": "3.7.11"
  }
 },
 "nbformat": 4,
 "nbformat_minor": 5
}

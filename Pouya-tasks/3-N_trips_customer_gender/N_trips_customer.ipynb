{
 "cells": [
  {
   "cell_type": "markdown",
   "id": "3089f6b5",
   "metadata": {},
   "source": [
    "# Number of Trips, Number of Customer Type Usage"
   ]
  },
  {
   "cell_type": "markdown",
   "id": "3b88685b",
   "metadata": {},
   "source": [
    "## Import Packages"
   ]
  },
  {
   "cell_type": "code",
   "execution_count": 1,
   "id": "3c028f1f",
   "metadata": {},
   "outputs": [],
   "source": [
    "import numpy as np\n",
    "import pandas as pd\n",
    "import os\n",
    "import glob\n",
    "from pathlib import Path"
   ]
  },
  {
   "cell_type": "markdown",
   "id": "72c562d9",
   "metadata": {},
   "source": [
    "## Main Function"
   ]
  },
  {
   "cell_type": "code",
   "execution_count": 7,
   "id": "b580a543",
   "metadata": {},
   "outputs": [],
   "source": [
    "def N_trips_customer(datasets_address, output_address):\n",
    "    \n",
    "    path = os.getcwd()\n",
    "    csv_files = glob.glob(os.path.join(datasets_address, \"*.csv\"))\n",
    "\n",
    "    col = ['Date', 'Number of Trips', 'Number_of_Members','Number_of_Rentals', 'Male', 'Female', 'Unknown_gender']\n",
    "    export_data = pd.DataFrame(columns= col)\n",
    "\n",
    "    j = 0\n",
    "    for i in csv_files:\n",
    "\n",
    "        data = pd.read_csv(i)\n",
    "        number_of_trips = len(data)\n",
    "\n",
    "#         if ('usertype' in data.columns) == True:                      Since we are about to consider datasets between 2013-2020\n",
    "\n",
    "        number_of_members = data.loc[:,'usertype'].value_counts()['Subscriber']\n",
    "        number_of_rentals =  number_of_trips - number_of_members   \n",
    "        \n",
    "        male_trips =  data.loc[:,'gender'].value_counts()[1]\n",
    "        female_trips = data.loc[:,'gender'].value_counts()[2]\n",
    "        unknown_gender_trips = data.loc[:,'gender'].value_counts()[0]\n",
    "        \n",
    "        date = Path(i).name[0:4]+'-'+Path(i).name[4:6]\n",
    "\n",
    "#         else:\n",
    "\n",
    "#             number_of_members = data['member_casual'].value_counts()['member']\n",
    "#             number_of_rentals =  number_of_trips - number_of_members\n",
    "#             date = data.loc[0,'started_at'][0:7]\n",
    "\n",
    "        export_data.loc[j,:] = [date, number_of_trips,number_of_members,number_of_rentals,\\\n",
    "                                male_trips,female_trips,unknown_gender_trips]\n",
    "        j+=1\n",
    "\n",
    "        \n",
    "    ## Eport the DataFrame\n",
    "    export_data.to_csv(output_address, index = False)"
   ]
  },
  {
   "cell_type": "code",
   "execution_count": 9,
   "id": "a27a673b",
   "metadata": {},
   "outputs": [],
   "source": [
    "N_trips_customer('C:/Users/adria/OneDrive/Desktop','C:/Users/adria/OneDrive/Desktop/test.csv')"
   ]
  },
  {
   "cell_type": "code",
   "execution_count": 10,
   "id": "39ba90dd",
   "metadata": {},
   "outputs": [],
   "source": [
    "df = pd.read_csv('C:/Users/adria/OneDrive/Desktop/test.csv')"
   ]
  },
  {
   "cell_type": "code",
   "execution_count": 11,
   "id": "efdf2831",
   "metadata": {},
   "outputs": [
    {
     "data": {
      "text/html": [
       "<div>\n",
       "<style scoped>\n",
       "    .dataframe tbody tr th:only-of-type {\n",
       "        vertical-align: middle;\n",
       "    }\n",
       "\n",
       "    .dataframe tbody tr th {\n",
       "        vertical-align: top;\n",
       "    }\n",
       "\n",
       "    .dataframe thead th {\n",
       "        text-align: right;\n",
       "    }\n",
       "</style>\n",
       "<table border=\"1\" class=\"dataframe\">\n",
       "  <thead>\n",
       "    <tr style=\"text-align: right;\">\n",
       "      <th></th>\n",
       "      <th>Date</th>\n",
       "      <th>Number of Trips</th>\n",
       "      <th>Number_of_Members</th>\n",
       "      <th>Number_of_Rentals</th>\n",
       "      <th>Male</th>\n",
       "      <th>Female</th>\n",
       "      <th>Unknown_gender</th>\n",
       "    </tr>\n",
       "  </thead>\n",
       "  <tbody>\n",
       "    <tr>\n",
       "      <th>0</th>\n",
       "      <td>2016-04</td>\n",
       "      <td>1013126</td>\n",
       "      <td>882670</td>\n",
       "      <td>130456</td>\n",
       "      <td>674121</td>\n",
       "      <td>206507</td>\n",
       "      <td>132498</td>\n",
       "    </tr>\n",
       "  </tbody>\n",
       "</table>\n",
       "</div>"
      ],
      "text/plain": [
       "      Date  Number of Trips  Number_of_Members  Number_of_Rentals    Male  \\\n",
       "0  2016-04          1013126             882670             130456  674121   \n",
       "\n",
       "   Female  Unknown_gender  \n",
       "0  206507          132498  "
      ]
     },
     "execution_count": 11,
     "metadata": {},
     "output_type": "execute_result"
    }
   ],
   "source": [
    "df"
   ]
  },
  {
   "cell_type": "code",
   "execution_count": null,
   "id": "ca3ba475",
   "metadata": {},
   "outputs": [],
   "source": []
  }
 ],
 "metadata": {
  "kernelspec": {
   "display_name": "Python 3 (ipykernel)",
   "language": "python",
   "name": "python3"
  },
  "language_info": {
   "codemirror_mode": {
    "name": "ipython",
    "version": 3
   },
   "file_extension": ".py",
   "mimetype": "text/x-python",
   "name": "python",
   "nbconvert_exporter": "python",
   "pygments_lexer": "ipython3",
   "version": "3.8.12"
  }
 },
 "nbformat": 4,
 "nbformat_minor": 5
}

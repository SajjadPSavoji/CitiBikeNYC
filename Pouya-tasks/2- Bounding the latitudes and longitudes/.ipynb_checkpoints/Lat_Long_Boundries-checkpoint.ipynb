{
 "cells": [
  {
   "cell_type": "code",
   "execution_count": 1,
   "id": "793809d1",
   "metadata": {},
   "outputs": [],
   "source": [
    "import numpy as np\n",
    "import pandas as pd\n",
    "import os\n",
    "import glob\n",
    "import ntpath\n",
    "from decimal import Decimal"
   ]
  },
  {
   "cell_type": "code",
   "execution_count": 12,
   "id": "bec67a89",
   "metadata": {},
   "outputs": [],
   "source": [
    "def Lat_Long_Boundries(datasets_address):\n",
    "    \n",
    "    boundries ={'min_lat':40.5,'max_lat':40.9,'min_lng':-74.1,'max_lng':-73.7}\n",
    "    \n",
    "    path = os.getcwd()\n",
    "    csv_files = glob.glob(os.path.join(datasets_address, \"*.csv\"))\n",
    "\n",
    "    for i in csv_files:\n",
    "        \n",
    "        data = pd.read_csv(i)\n",
    "        if 'start station latitude' in data.columns:\n",
    "            data = data.loc[((boundries['min_lat'] <= data.loc[:,'start station latitude'])  & (data.loc[:,'start station latitude']  <= boundries['max_lat'])) & \n",
    "                            ((boundries['min_lat'] <= data.loc[:,'end station latitude'])    & (data.loc[:,'end station latitude']    <= boundries['max_lat'])) &\n",
    "                            ((boundries['min_lng'] <= data.loc[:,'start station longitude']) & (data.loc[:,'start station longitude'] <= boundries['max_lng'])) &\n",
    "                            ((boundries['min_lng'] <= data.loc[:,'end station longitude'])   & (data.loc[:,'end station longitude']   <= boundries['max_lng']))]\n",
    "        elif 'start_lat' in data.columns:\n",
    "            data = data.loc[((boundries['min_lat'] <= data.loc[:,'start_lat']) & (data.loc[:,'start_lat'] <= boundries['max_lat'])) & \n",
    "                            ((boundries['min_lat'] <= data.loc[:,'end_lat'])   & (data.loc[:,'end_lat']   <= boundries['max_lat'])) &\n",
    "                            ((boundries['min_lng'] <= data.loc[:,'start_lng']) & (data.loc[:,'start_lng'] <= boundries['max_lng'])) &\n",
    "                            ((boundries['min_lng'] <= data.loc[:,'end_lng'])   & (data.loc[:,'end_lng']   <= boundries['max_lng']))]            \n",
    "\n",
    "        data.to_csv(i, index = False)"
   ]
  },
  {
   "cell_type": "code",
   "execution_count": 13,
   "id": "249b289b",
   "metadata": {},
   "outputs": [],
   "source": [
    "Lat_Long_Boundries(\"C:/Users/adria/OneDrive/Desktop\")"
   ]
  },
  {
   "cell_type": "code",
   "execution_count": 14,
   "id": "e72bd32a",
   "metadata": {},
   "outputs": [],
   "source": [
    "df = pd.read_csv(\"C:/Users/adria/OneDrive/Desktop/201604-citibike-tripdata.csv\")"
   ]
  },
  {
   "cell_type": "code",
   "execution_count": 15,
   "id": "3777f5c7",
   "metadata": {},
   "outputs": [
    {
     "data": {
      "text/plain": [
       "(1013126, 15)"
      ]
     },
     "execution_count": 15,
     "metadata": {},
     "output_type": "execute_result"
    }
   ],
   "source": [
    "df.shape"
   ]
  },
  {
   "cell_type": "code",
   "execution_count": 8,
   "id": "65458a23",
   "metadata": {},
   "outputs": [
    {
     "data": {
      "text/html": [
       "<div>\n",
       "<style scoped>\n",
       "    .dataframe tbody tr th:only-of-type {\n",
       "        vertical-align: middle;\n",
       "    }\n",
       "\n",
       "    .dataframe tbody tr th {\n",
       "        vertical-align: top;\n",
       "    }\n",
       "\n",
       "    .dataframe thead th {\n",
       "        text-align: right;\n",
       "    }\n",
       "</style>\n",
       "<table border=\"1\" class=\"dataframe\">\n",
       "  <thead>\n",
       "    <tr style=\"text-align: right;\">\n",
       "      <th></th>\n",
       "      <th>tripduration</th>\n",
       "      <th>starttime</th>\n",
       "      <th>stoptime</th>\n",
       "      <th>start station id</th>\n",
       "      <th>start station name</th>\n",
       "      <th>start station latitude</th>\n",
       "      <th>start station longitude</th>\n",
       "      <th>end station id</th>\n",
       "      <th>end station name</th>\n",
       "      <th>end station latitude</th>\n",
       "      <th>end station longitude</th>\n",
       "      <th>bikeid</th>\n",
       "      <th>usertype</th>\n",
       "      <th>birth year</th>\n",
       "      <th>gender</th>\n",
       "    </tr>\n",
       "  </thead>\n",
       "  <tbody>\n",
       "  </tbody>\n",
       "</table>\n",
       "</div>"
      ],
      "text/plain": [
       "Empty DataFrame\n",
       "Columns: [tripduration, starttime, stoptime, start station id, start station name, start station latitude, start station longitude, end station id, end station name, end station latitude, end station longitude, bikeid, usertype, birth year, gender]\n",
       "Index: []"
      ]
     },
     "execution_count": 8,
     "metadata": {},
     "output_type": "execute_result"
    }
   ],
   "source": [
    "df[df.loc[:,'start station latitude']==0]"
   ]
  },
  {
   "cell_type": "code",
   "execution_count": null,
   "id": "2d9ce015",
   "metadata": {},
   "outputs": [],
   "source": []
  }
 ],
 "metadata": {
  "kernelspec": {
   "display_name": "Python 3 (ipykernel)",
   "language": "python",
   "name": "python3"
  },
  "language_info": {
   "codemirror_mode": {
    "name": "ipython",
    "version": 3
   },
   "file_extension": ".py",
   "mimetype": "text/x-python",
   "name": "python",
   "nbconvert_exporter": "python",
   "pygments_lexer": "ipython3",
   "version": "3.7.11"
  }
 },
 "nbformat": 4,
 "nbformat_minor": 5
}

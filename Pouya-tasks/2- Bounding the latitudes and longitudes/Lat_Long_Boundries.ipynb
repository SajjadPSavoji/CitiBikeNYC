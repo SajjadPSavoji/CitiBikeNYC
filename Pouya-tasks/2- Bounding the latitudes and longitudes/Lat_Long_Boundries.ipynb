{
 "cells": [
  {
   "cell_type": "code",
   "execution_count": 76,
   "id": "793809d1",
   "metadata": {},
   "outputs": [],
   "source": [
    "import numpy as np\n",
    "import pandas as pd\n",
    "import os\n",
    "import glob\n",
    "import ntpath\n",
    "from decimal import Decimal"
   ]
  },
  {
   "cell_type": "code",
   "execution_count": 79,
   "id": "bec67a89",
   "metadata": {},
   "outputs": [],
   "source": [
    "def Lat_Long_Boundries(datasets_address):\n",
    "    \n",
    "    boundries ={'min_lat':40.604017,'max_lat':40.88226,'min_lng':-74.08,'max_lng':-73.88145}\n",
    "    \n",
    "    path = os.getcwd()\n",
    "    csv_files = glob.glob(os.path.join(datasets_address, \"*.csv\"))\n",
    "\n",
    "    for i in csv_files:\n",
    "        \n",
    "        data = pd.read_csv(i)\n",
    "        if 'start station latitude' in data.columns:\n",
    "            data = data.loc[((boundries['min_lat'] <= data.loc[:,'start station latitude'])  & (data.loc[:,'start station latitude']  <= boundries['max_lat'])) & \n",
    "                            ((boundries['min_lat'] <= data.loc[:,'end station latitude'])    & (data.loc[:,'end station latitude']    <= boundries['max_lat'])) &\n",
    "                            ((boundries['min_lng'] <= data.loc[:,'start station longitude']) & (data.loc[:,'start station longitude'] <= boundries['max_lng'])) &\n",
    "                            ((boundries['min_lng'] <= data.loc[:,'end station longitude'])   & (data.loc[:,'end station longitude']   <= boundries['max_lng']))]\n",
    "        elif 'start_lat' in data.columns:\n",
    "            data = data.loc[((boundries['min_lat'] <= data.loc[:,'start_lat']) & (data.loc[:,'start_lat'] <= boundries['max_lat'])) & \n",
    "                            ((boundries['min_lat'] <= data.loc[:,'end_lat'])   & (data.loc[:,'end_lat']   <= boundries['max_lat'])) &\n",
    "                            ((boundries['min_lng'] <= data.loc[:,'start_lng']) & (data.loc[:,'start_lng'] <= boundries['max_lng'])) &\n",
    "                            ((boundries['min_lng'] <= data.loc[:,'end_lng'])   & (data.loc[:,'end_lng']   <= boundries['max_lng']))]            \n",
    "\n",
    "        data.to_csv(i, index = False)"
   ]
  }
 ],
 "metadata": {
  "kernelspec": {
   "display_name": "Python 3 (ipykernel)",
   "language": "python",
   "name": "python3"
  },
  "language_info": {
   "codemirror_mode": {
    "name": "ipython",
    "version": 3
   },
   "file_extension": ".py",
   "mimetype": "text/x-python",
   "name": "python",
   "nbconvert_exporter": "python",
   "pygments_lexer": "ipython3",
   "version": "3.7.11"
  }
 },
 "nbformat": 4,
 "nbformat_minor": 5
}

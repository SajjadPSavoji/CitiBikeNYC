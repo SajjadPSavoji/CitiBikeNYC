{
 "cells": [
  {
   "cell_type": "markdown",
   "id": "3089f6b5",
   "metadata": {},
   "source": [
    "# Number of Trips, Number of Customer Type Usage"
   ]
  },
  {
   "cell_type": "markdown",
   "id": "3b88685b",
   "metadata": {},
   "source": [
    "## Import Packages"
   ]
  },
  {
   "cell_type": "code",
   "execution_count": 6,
   "id": "3c028f1f",
   "metadata": {},
   "outputs": [],
   "source": [
    "import numpy as np\n",
    "import pandas as pd\n",
    "import os\n",
    "import glob"
   ]
  },
  {
   "cell_type": "markdown",
   "id": "72c562d9",
   "metadata": {},
   "source": [
    "## Main Function"
   ]
  },
  {
   "cell_type": "code",
   "execution_count": 7,
   "id": "b580a543",
   "metadata": {},
   "outputs": [],
   "source": [
    "def N_trips_customer(datasets_address, output_address):\n",
    "    \n",
    "    path = os.getcwd()\n",
    "    csv_files = glob.glob(os.path.join(datasets_address, \"*.csv\"))\n",
    "\n",
    "    col = ['Date', 'Number of Trips', 'Number_of_Members','Number_of_Rentals']\n",
    "    export_data = pd.DataFrame(columns= col)\n",
    "\n",
    "    j = 0\n",
    "    for i in csv_files:\n",
    "\n",
    "        data = pd.read_csv(i)\n",
    "        number_of_trips = len(data)\n",
    "\n",
    "        if ('usertype' in data.columns) == True:\n",
    "\n",
    "            number_of_members = data['usertype'].value_counts()['Subscriber']\n",
    "            number_of_rentals =  number_of_trips - number_of_members   \n",
    "            date = data.loc[0,'starttime'][0:7]\n",
    "\n",
    "        else:\n",
    "\n",
    "            number_of_members = data['member_casual'].value_counts()['member']\n",
    "            number_of_rentals =  number_of_trips - number_of_members\n",
    "            date = data.loc[0,'started_at'][0:7]\n",
    "\n",
    "        export_data.loc[j,:] = [date, number_of_trips,number_of_members,number_of_rentals]\n",
    "        j+=1\n",
    "\n",
    "        \n",
    "    ## Eport the DataFrame\n",
    "    export_data.to_csv(output_address, index = False)"
   ]
  },
  {
   "cell_type": "code",
   "execution_count": 8,
   "id": "4ca02814",
   "metadata": {},
   "outputs": [],
   "source": [
    "N_trips_customer(\"C:/Users/adria/OneDrive/Desktop\", \"C:/Users/adria/OneDrive/Desktop/exp.csv\")"
   ]
  },
  {
   "cell_type": "code",
   "execution_count": null,
   "id": "920daf05",
   "metadata": {},
   "outputs": [],
   "source": []
  }
 ],
 "metadata": {
  "kernelspec": {
   "display_name": "Python 3 (ipykernel)",
   "language": "python",
   "name": "python3"
  },
  "language_info": {
   "codemirror_mode": {
    "name": "ipython",
    "version": 3
   },
   "file_extension": ".py",
   "mimetype": "text/x-python",
   "name": "python",
   "nbconvert_exporter": "python",
   "pygments_lexer": "ipython3",
   "version": "3.7.11"
  }
 },
 "nbformat": 4,
 "nbformat_minor": 5
}

{
 "cells": [
  {
   "cell_type": "markdown",
   "id": "f99048ee",
   "metadata": {},
   "source": [
    "# Number of Trips Per Day"
   ]
  },
  {
   "cell_type": "markdown",
   "id": "1eeb7d1c",
   "metadata": {},
   "source": [
    "## Import Packages"
   ]
  },
  {
   "cell_type": "code",
   "execution_count": 51,
   "id": "0b47fc63",
   "metadata": {},
   "outputs": [],
   "source": [
    "import numpy as np\n",
    "import pandas as pd\n",
    "import os\n",
    "import glob\n",
    "import ntpath"
   ]
  },
  {
   "cell_type": "markdown",
   "id": "6b876800",
   "metadata": {},
   "source": [
    "## Main"
   ]
  },
  {
   "cell_type": "code",
   "execution_count": 72,
   "id": "1674e635",
   "metadata": {},
   "outputs": [],
   "source": [
    "def Number_of_Trips_Per_Day(datasets_adataress,export_adataress):\n",
    "    \n",
    "    path = os.getcwd()\n",
    "    csv_files = glob.glob(os.path.join(datasets_adataress, \"*.csv\"))\n",
    "    \n",
    "    j=0\n",
    "    col = columns=['Date','Number_of_Trips']\n",
    "    final_data = pd.DataFrame(columns = col)\n",
    "\n",
    "    for i in csv_files:\n",
    "        \n",
    "        year = ntpath.basename(i)[0:4]\n",
    "        month = ntpath.basename(i)[4:6]\n",
    "        data = pd.read_csv(i)\n",
    "        \n",
    "        for k in range(np.int(data.iloc[-1,1][8:10])):\n",
    "            \n",
    "            k+=1  \n",
    "            final_data.loc[j,'Date'] = year +'-' + month + '-' + str(k)\n",
    "#             final_data.loc[j,'Year'] = year\n",
    "#             final_data.loc[j,'Month'] = month\n",
    "#             final_data.loc[j,'Day'] = str(k)\n",
    "            \n",
    "            if k<=9:\n",
    "                \n",
    "                final_data.loc[j,'Number_of_Trips'] = len(data['starttime'].str.split(expand=True)[data['starttime'].str.split(expand=True)[0]==year +'-' + month + '-' + '0' + str(k)])\n",
    "            else:\n",
    "                final_data.loc[j,'Number_of_Trips'] = len(data['starttime'].str.split(expand=True)[data['starttime'].str.split(expand=True)[0]==year +'-' + month + '-' + str(k)])\n",
    "            \n",
    "            j+=1\n",
    "            \n",
    "    final_data.to_csv(export_adataress,index=False)"
   ]
  }
 ],
 "metadata": {
  "kernelspec": {
   "display_name": "Python 3 (ipykernel)",
   "language": "python",
   "name": "python3"
  },
  "language_info": {
   "codemirror_mode": {
    "name": "ipython",
    "version": 3
   },
   "file_extension": ".py",
   "mimetype": "text/x-python",
   "name": "python",
   "nbconvert_exporter": "python",
   "pygments_lexer": "ipython3",
   "version": "3.8.12"
  }
 },
 "nbformat": 4,
 "nbformat_minor": 5
}

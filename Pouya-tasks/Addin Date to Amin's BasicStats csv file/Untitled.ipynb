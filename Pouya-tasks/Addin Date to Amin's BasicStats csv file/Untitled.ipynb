{
 "cells": [
  {
   "cell_type": "code",
   "execution_count": 1,
   "id": "20dcec91",
   "metadata": {},
   "outputs": [],
   "source": [
    "import numpy as np\n",
    "import pandas as pd"
   ]
  },
  {
   "cell_type": "code",
   "execution_count": 2,
   "id": "c9b64cc9",
   "metadata": {},
   "outputs": [],
   "source": [
    "data = pd.read_csv(\"C:/Users/adria/OneDrive/Desktop/201704-citibike-tripdata.csv\")"
   ]
  },
  {
   "cell_type": "code",
   "execution_count": 3,
   "id": "c31ba118",
   "metadata": {},
   "outputs": [
    {
     "data": {
      "text/html": [
       "<div>\n",
       "<style scoped>\n",
       "    .dataframe tbody tr th:only-of-type {\n",
       "        vertical-align: middle;\n",
       "    }\n",
       "\n",
       "    .dataframe tbody tr th {\n",
       "        vertical-align: top;\n",
       "    }\n",
       "\n",
       "    .dataframe thead th {\n",
       "        text-align: right;\n",
       "    }\n",
       "</style>\n",
       "<table border=\"1\" class=\"dataframe\">\n",
       "  <thead>\n",
       "    <tr style=\"text-align: right;\">\n",
       "      <th></th>\n",
       "      <th>Year</th>\n",
       "      <th>Month</th>\n",
       "      <th>Number of Trips</th>\n",
       "      <th>Number Unique Start</th>\n",
       "      <th>Number Unique End</th>\n",
       "      <th>Number Unique Bikes</th>\n",
       "      <th>Bike Number Cumulative</th>\n",
       "      <th>Cumulative Starting Station</th>\n",
       "      <th>Cumulative Ending Station</th>\n",
       "    </tr>\n",
       "  </thead>\n",
       "  <tbody>\n",
       "    <tr>\n",
       "      <th>0</th>\n",
       "      <td>2013</td>\n",
       "      <td>6</td>\n",
       "      <td>577703</td>\n",
       "      <td>337</td>\n",
       "      <td>337</td>\n",
       "      <td>5794.0</td>\n",
       "      <td>5794</td>\n",
       "      <td>337</td>\n",
       "      <td>337</td>\n",
       "    </tr>\n",
       "    <tr>\n",
       "      <th>1</th>\n",
       "      <td>2013</td>\n",
       "      <td>7</td>\n",
       "      <td>843416</td>\n",
       "      <td>329</td>\n",
       "      <td>329</td>\n",
       "      <td>5461.0</td>\n",
       "      <td>5803</td>\n",
       "      <td>367</td>\n",
       "      <td>367</td>\n",
       "    </tr>\n",
       "    <tr>\n",
       "      <th>2</th>\n",
       "      <td>2013</td>\n",
       "      <td>8</td>\n",
       "      <td>1001958</td>\n",
       "      <td>330</td>\n",
       "      <td>330</td>\n",
       "      <td>5750.0</td>\n",
       "      <td>5852</td>\n",
       "      <td>367</td>\n",
       "      <td>367</td>\n",
       "    </tr>\n",
       "    <tr>\n",
       "      <th>3</th>\n",
       "      <td>2013</td>\n",
       "      <td>9</td>\n",
       "      <td>1034359</td>\n",
       "      <td>330</td>\n",
       "      <td>330</td>\n",
       "      <td>5444.0</td>\n",
       "      <td>5853</td>\n",
       "      <td>367</td>\n",
       "      <td>367</td>\n",
       "    </tr>\n",
       "    <tr>\n",
       "      <th>4</th>\n",
       "      <td>2013</td>\n",
       "      <td>10</td>\n",
       "      <td>1037712</td>\n",
       "      <td>330</td>\n",
       "      <td>330</td>\n",
       "      <td>5722.0</td>\n",
       "      <td>5937</td>\n",
       "      <td>367</td>\n",
       "      <td>367</td>\n",
       "    </tr>\n",
       "  </tbody>\n",
       "</table>\n",
       "</div>"
      ],
      "text/plain": [
       "   Year  Month  Number of Trips  Number Unique Start  Number Unique End  \\\n",
       "0  2013      6           577703                  337                337   \n",
       "1  2013      7           843416                  329                329   \n",
       "2  2013      8          1001958                  330                330   \n",
       "3  2013      9          1034359                  330                330   \n",
       "4  2013     10          1037712                  330                330   \n",
       "\n",
       "   Number Unique Bikes  Bike Number Cumulative  Cumulative Starting Station  \\\n",
       "0               5794.0                    5794                          337   \n",
       "1               5461.0                    5803                          367   \n",
       "2               5750.0                    5852                          367   \n",
       "3               5444.0                    5853                          367   \n",
       "4               5722.0                    5937                          367   \n",
       "\n",
       "   Cumulative Ending Station  \n",
       "0                        337  \n",
       "1                        367  \n",
       "2                        367  \n",
       "3                        367  \n",
       "4                        367  "
      ]
     },
     "execution_count": 3,
     "metadata": {},
     "output_type": "execute_result"
    }
   ],
   "source": [
    "data.head(5)"
   ]
  },
  {
   "cell_type": "code",
   "execution_count": null,
   "id": "cb764e30",
   "metadata": {},
   "outputs": [],
   "source": []
  }
 ],
 "metadata": {
  "kernelspec": {
   "display_name": "Python 3 (ipykernel)",
   "language": "python",
   "name": "python3"
  },
  "language_info": {
   "codemirror_mode": {
    "name": "ipython",
    "version": 3
   },
   "file_extension": ".py",
   "mimetype": "text/x-python",
   "name": "python",
   "nbconvert_exporter": "python",
   "pygments_lexer": "ipython3",
   "version": "3.7.11"
  }
 },
 "nbformat": 4,
 "nbformat_minor": 5
}
